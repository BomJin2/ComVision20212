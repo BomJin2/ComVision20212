{
 "cells": [
  {
   "cell_type": "markdown",
   "metadata": {},
   "source": [
    "# 1.4.4 Smoothing Images"
   ]
  },
  {
   "cell_type": "markdown",
   "metadata": {},
   "source": [
    "## Kernel Convolution"
   ]
  },
  {
   "cell_type": "code",
   "execution_count": 1,
   "metadata": {},
   "outputs": [],
   "source": [
    "import cv2\n",
    "import numpy as np\n",
    "from matplotlib import pyplot as plt"
   ]
  },
  {
   "cell_type": "code",
   "execution_count": 2,
   "metadata": {},
   "outputs": [],
   "source": [
    "l=1\n",
    "kernel = np.array([[0,-1,0],[-1,4,-1],[0,-1,0]],np.float32)"
   ]
  },
  {
   "cell_type": "code",
   "execution_count": 3,
   "metadata": {},
   "outputs": [
    {
     "data": {
      "text/plain": [
       "array([[ 0., -1.,  0.],\n",
       "       [-1.,  4., -1.],\n",
       "       [ 0., -1.,  0.]], dtype=float32)"
      ]
     },
     "execution_count": 3,
     "metadata": {},
     "output_type": "execute_result"
    }
   ],
   "source": [
    "kernel"
   ]
  },
  {
   "cell_type": "code",
   "execution_count": 4,
   "metadata": {},
   "outputs": [],
   "source": [
    "img = np.random.randint(10, size=(12,12))\n",
    "#img = np.ones((10,10),np.float32)"
   ]
  },
  {
   "cell_type": "code",
   "execution_count": 5,
   "metadata": {},
   "outputs": [
    {
     "data": {
      "text/plain": [
       "array([[6, 5, 7, 5, 8, 1, 0, 6, 4, 3, 0, 2],\n",
       "       [1, 0, 6, 6, 9, 5, 5, 6, 3, 0, 0, 9],\n",
       "       [1, 1, 4, 9, 9, 8, 0, 7, 0, 5, 7, 9],\n",
       "       [8, 3, 3, 9, 6, 1, 1, 4, 4, 2, 1, 1],\n",
       "       [5, 1, 9, 5, 1, 0, 2, 7, 4, 8, 8, 4],\n",
       "       [4, 8, 1, 1, 3, 4, 4, 9, 8, 9, 6, 1],\n",
       "       [6, 5, 2, 5, 1, 6, 2, 3, 4, 2, 6, 4],\n",
       "       [9, 3, 5, 9, 1, 9, 8, 0, 8, 2, 3, 6],\n",
       "       [4, 9, 4, 8, 1, 1, 0, 2, 0, 8, 9, 0],\n",
       "       [5, 3, 5, 1, 4, 1, 4, 1, 8, 1, 4, 7],\n",
       "       [3, 2, 2, 3, 5, 1, 8, 8, 5, 6, 8, 6],\n",
       "       [1, 4, 6, 7, 8, 7, 8, 3, 4, 3, 7, 2]])"
      ]
     },
     "execution_count": 5,
     "metadata": {},
     "output_type": "execute_result"
    }
   ],
   "source": [
    "img"
   ]
  },
  {
   "cell_type": "code",
   "execution_count": 6,
   "metadata": {},
   "outputs": [],
   "source": [
    "h,w=img.shape"
   ]
  },
  {
   "cell_type": "code",
   "execution_count": 7,
   "metadata": {},
   "outputs": [
    {
     "name": "stdout",
     "output_type": "stream",
     "text": [
      "12 12\n"
     ]
    }
   ],
   "source": [
    "print(h,w)"
   ]
  },
  {
   "cell_type": "code",
   "execution_count": 8,
   "metadata": {},
   "outputs": [],
   "source": [
    "#[*range(-2,3)]"
   ]
  },
  {
   "cell_type": "code",
   "execution_count": 9,
   "metadata": {},
   "outputs": [
    {
     "name": "stderr",
     "output_type": "stream",
     "text": [
      "<ipython-input-9-6137fcb8b1c2>:1: DeprecationWarning: `np.int` is a deprecated alias for the builtin `int`. To silence this warning, use `int` by itself. Doing this will not modify any behavior and is safe. When replacing `np.int`, you may wish to use e.g. `np.int64` or `np.int32` to specify the precision. If you wish to review your current use, check the release note link for additional information.\n",
      "Deprecated in NumPy 1.20; for more details and guidance: https://numpy.org/devdocs/release/1.20.0-notes.html#deprecations\n",
      "  dst = np.zeros((h,w),np.int)\n"
     ]
    }
   ],
   "source": [
    "dst = np.zeros((h,w),np.int)"
   ]
  },
  {
   "cell_type": "code",
   "execution_count": 10,
   "metadata": {},
   "outputs": [],
   "source": [
    "for i in range(l,h-l):\n",
    "    for j in range(l,w-l):\n",
    "        t=0\n",
    "        for p in range(-l,l+1):\n",
    "            for q in range(-l,l+1):\n",
    "                t += kernel[p+l,q+l]*img[i+p,j+q]\n",
    "        dst[i,j]=t        "
   ]
  },
  {
   "cell_type": "code",
   "execution_count": 11,
   "metadata": {},
   "outputs": [
    {
     "data": {
      "text/plain": [
       "array([[6, 5, 7, 5, 8, 1, 0, 6, 4, 3, 0, 2],\n",
       "       [1, 0, 6, 6, 9, 5, 5, 6, 3, 0, 0, 9],\n",
       "       [1, 1, 4, 9, 9, 8, 0, 7, 0, 5, 7, 9],\n",
       "       [8, 3, 3, 9, 6, 1, 1, 4, 4, 2, 1, 1],\n",
       "       [5, 1, 9, 5, 1, 0, 2, 7, 4, 8, 8, 4],\n",
       "       [4, 8, 1, 1, 3, 4, 4, 9, 8, 9, 6, 1],\n",
       "       [6, 5, 2, 5, 1, 6, 2, 3, 4, 2, 6, 4],\n",
       "       [9, 3, 5, 9, 1, 9, 8, 0, 8, 2, 3, 6],\n",
       "       [4, 9, 4, 8, 1, 1, 0, 2, 0, 8, 9, 0],\n",
       "       [5, 3, 5, 1, 4, 1, 4, 1, 8, 1, 4, 7],\n",
       "       [3, 2, 2, 3, 5, 1, 8, 8, 5, 6, 8, 6],\n",
       "       [1, 4, 6, 7, 8, 7, 8, 3, 4, 3, 7, 2]])"
      ]
     },
     "execution_count": 11,
     "metadata": {},
     "output_type": "execute_result"
    }
   ],
   "source": [
    "img"
   ]
  },
  {
   "cell_type": "code",
   "execution_count": 12,
   "metadata": {},
   "outputs": [
    {
     "data": {
      "text/plain": [
       "array([[  0,   0,   0,   0,   0,   0,   0,   0,   0,   0,   0,   0],\n",
       "       [  0, -13,   7,  -5,   8,  -3,   9,   3,   2, -11, -16,   0],\n",
       "       [  0,  -4,  -3,   8,   4,  17, -21,  18, -19,  11,  13,   0],\n",
       "       [  0,  -1, -13,  13,   4, -11,  -3,  -3,   6, -10, -14,   0],\n",
       "       [  0, -21,  26,   0, -10,  -8,  -4,   9, -11,   9,  13,   0],\n",
       "       [  0,  21, -16, -10,   5,   3,  -1,  14,   6,  12,   0,   0],\n",
       "       [  0,   1,  -8,   7, -11,   8, -13,  -3,  -5, -13,   9,   0],\n",
       "       [  0, -16,   2,  17, -16,  20,  21, -21,  26, -13, -11,   0],\n",
       "       [  0,  22, -11,  17, -10,  -7, -15,   7, -26,  20,  21,   0],\n",
       "       [  0,  -9,  10, -16,   8,  -6,   6, -18,  25, -22,  -9,   0],\n",
       "       [  0,  -4,  -8,  -3,   4, -17,  11,  15,  -6,   7,   9,   0],\n",
       "       [  0,   0,   0,   0,   0,   0,   0,   0,   0,   0,   0,   0]])"
      ]
     },
     "execution_count": 12,
     "metadata": {},
     "output_type": "execute_result"
    }
   ],
   "source": [
    "dst"
   ]
  },
  {
   "cell_type": "code",
   "execution_count": 13,
   "metadata": {},
   "outputs": [],
   "source": [
    "img = cv2.imread('lena.png', 0)"
   ]
  },
  {
   "cell_type": "code",
   "execution_count": 14,
   "metadata": {},
   "outputs": [],
   "source": [
    "h,w=img.shape"
   ]
  },
  {
   "cell_type": "code",
   "execution_count": 18,
   "metadata": {},
   "outputs": [],
   "source": [
    "l=1\n",
    "kernel = np.array([[0,-1,0], [-1,5,-1], [0,-1,0]],np.float32)"
   ]
  },
  {
   "cell_type": "code",
   "execution_count": 19,
   "metadata": {},
   "outputs": [],
   "source": [
    "dst = np.zeros((h-2*l,w-2*l),np.uint8)"
   ]
  },
  {
   "cell_type": "code",
   "execution_count": 20,
   "metadata": {},
   "outputs": [],
   "source": [
    "for i in range(l,h-l):\n",
    "    for j in range(l,w-l):\n",
    "        t=0\n",
    "        for p in range(-l,l+1):\n",
    "            for q in range(-l,l+1):\n",
    "                t += kernel[p+l,q+l]*img[i+p,j+q]\n",
    "        dst[i-l,j-l]=t "
   ]
  },
  {
   "cell_type": "code",
   "execution_count": 21,
   "metadata": {},
   "outputs": [],
   "source": [
    "cv2.imshow('img',img)\n",
    "cv2.imshow('dst',dst)\n",
    "cv2.waitKey(0)\n",
    "cv2.destroyAllWindows()"
   ]
  },
  {
   "cell_type": "code",
   "execution_count": null,
   "metadata": {},
   "outputs": [],
   "source": []
  }
 ],
 "metadata": {
  "kernelspec": {
   "display_name": "Python 3",
   "language": "python",
   "name": "python3"
  },
  "language_info": {
   "codemirror_mode": {
    "name": "ipython",
    "version": 3
   },
   "file_extension": ".py",
   "mimetype": "text/x-python",
   "name": "python",
   "nbconvert_exporter": "python",
   "pygments_lexer": "ipython3",
   "version": "3.9.4"
  }
 },
 "nbformat": 4,
 "nbformat_minor": 4
}
