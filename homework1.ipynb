{
 "cells": [
  {
   "cell_type": "code",
   "execution_count": 1,
   "id": "8630e812-0b96-4968-8410-486e8e138bb6",
   "metadata": {},
   "outputs": [],
   "source": [
    "import cv2\n",
    "import numpy as np"
   ]
  },
  {
   "cell_type": "code",
   "execution_count": 2,
   "id": "68ed239b-da3f-4ed8-8645-c1f4f3b0a3de",
   "metadata": {},
   "outputs": [],
   "source": [
    "def nothing(x):\n",
    "    pass"
   ]
  },
  {
   "cell_type": "code",
   "execution_count": 3,
   "id": "5658c2cf-e8a6-4481-8d71-25b1e84c681d",
   "metadata": {},
   "outputs": [],
   "source": [
    "img = cv2.imread('chihiro006.jpg')\n",
    "font = cv2.FONT_HERSHEY_SIMPLEX\n",
    "drawing = False \n",
    "mode = True \n",
    "ix,iy = -1,-1"
   ]
  },
  {
   "cell_type": "code",
   "execution_count": 4,
   "id": "30008232-000f-43a3-b98d-4beac2a67c15",
   "metadata": {},
   "outputs": [],
   "source": [
    "def draw_circle(event,x,y,flags,param):\n",
    "    global ix,iy,drawing,mode,img\n",
    "    text = \"Mouse position : (\" + str(ix) + \",\" + str(iy) + \") - (\" + str(x) + \",\" + str(y) + \")\"\n",
    "    if event == cv2.EVENT_LBUTTONDOWN:\n",
    "        drawing = True\n",
    "        ix,iy = x,y\n",
    "    elif event == cv2.EVENT_MOUSEMOVE:\n",
    "        if drawing == True:\n",
    "            if mode == True:\n",
    "                img = cv2.imread('chihiro006.jpg')\n",
    "                cv2.rectangle(img,(ix,iy),(x,y),(0,0,255), -1)\n",
    "                cv2.putText(img, text, (0, 40), font, 1, (255, 255, 255), 1, cv2.LINE_AA)\n",
    "            else:\n",
    "                cv2.circle(img,(x,y),5,(255,0,0),-1)\n",
    "            \n",
    "                                \n",
    "    elif event == cv2.EVENT_LBUTTONUP:\n",
    "        drawing = False\n",
    "        cv2.rectangle(img,(ix,iy),(x,y),(0,0,255),-1)\n",
    "        cv2.putText(img, text, (0, 40), font, 1, (255, 255, 255), 1, cv2.LINE_AA)\n",
    "        \n",
    "cv2.namedWindow('image')\n",
    "cv2.setMouseCallback('image',draw_circle)\n",
    "\n",
    "cv2.createTrackbar('Value','image',0,255,nothing)\n",
    "            \n",
    "while(1):\n",
    "    cv2.imshow('image', img)\n",
    "    k = cv2.waitKey(1) & 0xFF\n",
    "    if k == ord('m'):\n",
    "        mode = not mode\n",
    "    elif k == 27:\n",
    "        break\n",
    "\n",
    "        \n",
    "cv2.destroyAllWindows()"
   ]
  },
  {
   "cell_type": "code",
   "execution_count": null,
   "id": "cc1d88a1-a934-4abf-8c9a-1c3140f0bdac",
   "metadata": {},
   "outputs": [],
   "source": []
  }
 ],
 "metadata": {
  "kernelspec": {
   "display_name": "Python 3",
   "language": "python",
   "name": "python3"
  },
  "language_info": {
   "codemirror_mode": {
    "name": "ipython",
    "version": 3
   },
   "file_extension": ".py",
   "mimetype": "text/x-python",
   "name": "python",
   "nbconvert_exporter": "python",
   "pygments_lexer": "ipython3",
   "version": "3.9.4"
  }
 },
 "nbformat": 4,
 "nbformat_minor": 5
}
