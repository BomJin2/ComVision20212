{
 "cells": [
  {
   "cell_type": "code",
   "execution_count": 1,
   "id": "54487c5a-9cb7-4b4c-a0b1-fb07d51b8821",
   "metadata": {},
   "outputs": [],
   "source": [
    "x=5"
   ]
  },
  {
   "cell_type": "code",
   "execution_count": 2,
   "id": "d01df359-4998-4162-992f-697d24f13a95",
   "metadata": {},
   "outputs": [],
   "source": [
    "y=5"
   ]
  },
  {
   "cell_type": "code",
   "execution_count": 4,
   "id": "f9ae0d33-600d-4610-97c8-fe373a743c35",
   "metadata": {},
   "outputs": [
    {
     "data": {
      "text/plain": [
       "True"
      ]
     },
     "execution_count": 4,
     "metadata": {},
     "output_type": "execute_result"
    }
   ],
   "source": [
    "x==y"
   ]
  },
  {
   "cell_type": "code",
   "execution_count": 5,
   "id": "0c95d945-14d9-43fc-a95f-a28fe6a0d1d8",
   "metadata": {},
   "outputs": [
    {
     "data": {
      "text/plain": [
       "True"
      ]
     },
     "execution_count": 5,
     "metadata": {},
     "output_type": "execute_result"
    }
   ],
   "source": [
    "x is y"
   ]
  },
  {
   "cell_type": "code",
   "execution_count": 6,
   "id": "ba08d001-9370-4266-9071-7ca0a9d1c282",
   "metadata": {},
   "outputs": [],
   "source": [
    "a = 1"
   ]
  },
  {
   "cell_type": "code",
   "execution_count": 7,
   "id": "5cda69f2-2b0f-4dc6-aa4a-23c7c83d5ac7",
   "metadata": {},
   "outputs": [],
   "source": [
    "b = 2"
   ]
  },
  {
   "cell_type": "code",
   "execution_count": 8,
   "id": "859e1dfc-2ecc-4400-b1a0-710572151b43",
   "metadata": {},
   "outputs": [
    {
     "data": {
      "text/plain": [
       "True"
      ]
     },
     "execution_count": 8,
     "metadata": {},
     "output_type": "execute_result"
    }
   ],
   "source": [
    "a!=b"
   ]
  },
  {
   "cell_type": "code",
   "execution_count": 9,
   "id": "1935939d-c1f1-447c-b02a-026e975038df",
   "metadata": {},
   "outputs": [
    {
     "data": {
      "text/plain": [
       "True"
      ]
     },
     "execution_count": 9,
     "metadata": {},
     "output_type": "execute_result"
    }
   ],
   "source": [
    "a<b"
   ]
  },
  {
   "cell_type": "code",
   "execution_count": 10,
   "id": "eebda7a3-8139-4c26-a743-df96af246790",
   "metadata": {},
   "outputs": [
    {
     "data": {
      "text/plain": [
       "False"
      ]
     },
     "execution_count": 10,
     "metadata": {},
     "output_type": "execute_result"
    }
   ],
   "source": [
    "x<=0"
   ]
  },
  {
   "cell_type": "code",
   "execution_count": 11,
   "id": "30132513-eb40-4577-89a9-6982fbc9a724",
   "metadata": {},
   "outputs": [
    {
     "data": {
      "text/plain": [
       "True"
      ]
     },
     "execution_count": 11,
     "metadata": {},
     "output_type": "execute_result"
    }
   ],
   "source": [
    "a<=b"
   ]
  },
  {
   "cell_type": "code",
   "execution_count": 12,
   "id": "9c4268fe-4ce4-4ec4-847d-f645a8d4ee6e",
   "metadata": {},
   "outputs": [
    {
     "data": {
      "text/plain": [
       "False"
      ]
     },
     "execution_count": 12,
     "metadata": {},
     "output_type": "execute_result"
    }
   ],
   "source": [
    "b<-a"
   ]
  },
  {
   "cell_type": "code",
   "execution_count": 13,
   "id": "562eb951-23e7-4f89-a0a3-0ca2d5b4d37f",
   "metadata": {},
   "outputs": [
    {
     "data": {
      "text/plain": [
       "False"
      ]
     },
     "execution_count": 13,
     "metadata": {},
     "output_type": "execute_result"
    }
   ],
   "source": [
    "x<1 and y<3"
   ]
  },
  {
   "cell_type": "code",
   "execution_count": 15,
   "id": "1f4bb2c4-8147-49a5-be3a-a50b4c49436e",
   "metadata": {},
   "outputs": [
    {
     "data": {
      "text/plain": [
       "True"
      ]
     },
     "execution_count": 15,
     "metadata": {},
     "output_type": "execute_result"
    }
   ],
   "source": [
    "x>1 or y<8"
   ]
  },
  {
   "cell_type": "code",
   "execution_count": 16,
   "id": "fd5a0fb9-9270-43a0-b296-213bdb7d9cf4",
   "metadata": {},
   "outputs": [
    {
     "data": {
      "text/plain": [
       "False"
      ]
     },
     "execution_count": 16,
     "metadata": {},
     "output_type": "execute_result"
    }
   ],
   "source": [
    "not x>1"
   ]
  },
  {
   "cell_type": "code",
   "execution_count": 17,
   "id": "b0391b91-8258-44b1-bfea-9e87adc25bd7",
   "metadata": {},
   "outputs": [
    {
     "name": "stdout",
     "output_type": "stream",
     "text": [
      "x\n"
     ]
    }
   ],
   "source": [
    "if(x==y):\n",
    "    print('x')\n",
    "else:\n",
    "    print('y')"
   ]
  },
  {
   "cell_type": "code",
   "execution_count": 18,
   "id": "89bc04b2-d6c3-4ab9-812b-2f98c118becb",
   "metadata": {},
   "outputs": [
    {
     "name": "stdout",
     "output_type": "stream",
     "text": [
      "4가 크다\n"
     ]
    }
   ],
   "source": [
    "if 2>4:\n",
    "    print(\"2가 크다\")\n",
    "else:\n",
    "    print(\"4가 크다\")"
   ]
  },
  {
   "cell_type": "code",
   "execution_count": null,
   "id": "113a6059-438b-40c2-92a5-004ecc25ab02",
   "metadata": {},
   "outputs": [],
   "source": []
  }
 ],
 "metadata": {
  "kernelspec": {
   "display_name": "Python 3",
   "language": "python",
   "name": "python3"
  },
  "language_info": {
   "codemirror_mode": {
    "name": "ipython",
    "version": 3
   },
   "file_extension": ".py",
   "mimetype": "text/x-python",
   "name": "python",
   "nbconvert_exporter": "python",
   "pygments_lexer": "ipython3",
   "version": "3.9.4"
  }
 },
 "nbformat": 4,
 "nbformat_minor": 5
}
