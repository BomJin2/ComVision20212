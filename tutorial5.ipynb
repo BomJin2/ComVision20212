{
 "cells": [
  {
   "cell_type": "code",
   "execution_count": 1,
   "id": "fedcd64e-10d8-4a5f-a11e-968a6a204c48",
   "metadata": {},
   "outputs": [],
   "source": [
    "x=5"
   ]
  },
  {
   "cell_type": "code",
   "execution_count": 2,
   "id": "3dd58330-2172-4360-a093-1ca2c8d9ad7b",
   "metadata": {},
   "outputs": [
    {
     "name": "stdout",
     "output_type": "stream",
     "text": [
      "X equals something else\n",
      "This is outside the ‘if’.\n"
     ]
    }
   ],
   "source": [
    "if(x==3):\n",
    "    print(\"X equals 3.\")\n",
    "elif(x==2):\n",
    "    print( \"X equals 2.\")\n",
    "else:\n",
    "    print(\"X equals something else\")\n",
    "    print (\"This is outside the ‘if’.\")"
   ]
  },
  {
   "cell_type": "code",
   "execution_count": 3,
   "id": "d381cd8d-7556-46dc-87fc-4d05cb87b7f9",
   "metadata": {},
   "outputs": [],
   "source": [
    "x=3"
   ]
  },
  {
   "cell_type": "code",
   "execution_count": 4,
   "id": "80c342a4-8911-460f-b027-d3f7ad5de3b3",
   "metadata": {},
   "outputs": [
    {
     "name": "stdout",
     "output_type": "stream",
     "text": [
      "3 ing\n",
      "4 ing\n"
     ]
    }
   ],
   "source": [
    "while x<5:\n",
    "    print(\"%d ing\" %x)\n",
    "    x=x+1"
   ]
  },
  {
   "cell_type": "code",
   "execution_count": 5,
   "id": "5915aad1-87f6-4106-89c6-d0b55aa36bf1",
   "metadata": {},
   "outputs": [],
   "source": [
    "x=6"
   ]
  },
  {
   "cell_type": "code",
   "execution_count": 6,
   "id": "db8f7631-c660-4575-ad1e-0fd6c6f835e4",
   "metadata": {},
   "outputs": [],
   "source": [
    "while x<5:\n",
    "    print(\"%d ing\" %x)\n",
    "    x=x+1"
   ]
  },
  {
   "cell_type": "code",
   "execution_count": 7,
   "id": "8005b9ed-f2af-450d-b2a2-133c7183518b",
   "metadata": {},
   "outputs": [
    {
     "name": "stdout",
     "output_type": "stream",
     "text": [
      "X equals something else\n",
      "This is outside the ‘if’.\n"
     ]
    }
   ],
   "source": [
    "if x==3:\n",
    "    print (\"X equals 3.\")\n",
    "elif x==2:\n",
    "    print( \"X equals 2.\")\n",
    "else:\n",
    "    print(\"X equals something else\")\n",
    "    print (\"This is outside the ‘if’.\")"
   ]
  },
  {
   "cell_type": "code",
   "execution_count": 8,
   "id": "0546e4b4-24b9-40e5-b813-62039409d7eb",
   "metadata": {},
   "outputs": [],
   "source": [
    "a=1\n",
    "b=2"
   ]
  },
  {
   "cell_type": "code",
   "execution_count": 9,
   "id": "b1d097af-6984-4824-ad50-9033bac206a3",
   "metadata": {},
   "outputs": [
    {
     "name": "stdout",
     "output_type": "stream",
     "text": [
      "b = 2\n"
     ]
    }
   ],
   "source": [
    "if a==0:\n",
    "    print(\"a = 0\")\n",
    "elif b==1:\n",
    "    print(\"b = 1\")\n",
    "elif b==2:\n",
    "    print(\"b = 2\")\n",
    "else:\n",
    "    print(\"b = x\")"
   ]
  },
  {
   "cell_type": "code",
   "execution_count": 10,
   "id": "38f8a6c7-d46d-45cb-a84b-f2efcf5ca501",
   "metadata": {},
   "outputs": [],
   "source": [
    "num = 0"
   ]
  },
  {
   "cell_type": "code",
   "execution_count": 11,
   "id": "fd280d36-7035-40c2-b41b-cea50d9e49d5",
   "metadata": {},
   "outputs": [
    {
     "name": "stdout",
     "output_type": "stream",
     "text": [
      "0\n",
      "1\n",
      "2\n",
      "3\n",
      "4\n",
      "5\n"
     ]
    }
   ],
   "source": [
    "while 1:\n",
    "    print(num)\n",
    "    if num ==5:\n",
    "        break\n",
    "    num +=1"
   ]
  },
  {
   "cell_type": "code",
   "execution_count": 12,
   "id": "cdca10f4-52ac-4b57-9de8-f2fcab4d9d2b",
   "metadata": {},
   "outputs": [
    {
     "name": "stdout",
     "output_type": "stream",
     "text": [
      "1\n",
      "2\n",
      "3\n",
      "4\n",
      "6\n",
      "7\n",
      "8\n",
      "9\n",
      "10\n"
     ]
    }
   ],
   "source": [
    "a=0\n",
    "while a<10:\n",
    "    a+=1\n",
    "    if a==5:\n",
    "        continue\n",
    "    print(a)"
   ]
  },
  {
   "cell_type": "code",
   "execution_count": null,
   "id": "9c4976ad-5fc6-4579-bdc8-46a41f661a6d",
   "metadata": {},
   "outputs": [],
   "source": []
  }
 ],
 "metadata": {
  "kernelspec": {
   "display_name": "Python 3",
   "language": "python",
   "name": "python3"
  },
  "language_info": {
   "codemirror_mode": {
    "name": "ipython",
    "version": 3
   },
   "file_extension": ".py",
   "mimetype": "text/x-python",
   "name": "python",
   "nbconvert_exporter": "python",
   "pygments_lexer": "ipython3",
   "version": "3.9.4"
  }
 },
 "nbformat": 4,
 "nbformat_minor": 5
}
