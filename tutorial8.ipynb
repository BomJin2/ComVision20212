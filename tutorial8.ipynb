{
 "cells": [
  {
   "cell_type": "code",
   "execution_count": 1,
   "id": "fbcb75ce-42c1-42b3-9000-67c7794cb65a",
   "metadata": {},
   "outputs": [],
   "source": [
    "def myfun(x,y):\n",
    "    return x*y"
   ]
  },
  {
   "cell_type": "code",
   "execution_count": 2,
   "id": "0f9506c1-8c8a-40e1-ada1-9de2650c749d",
   "metadata": {},
   "outputs": [
    {
     "data": {
      "text/plain": [
       "12"
      ]
     },
     "execution_count": 2,
     "metadata": {},
     "output_type": "execute_result"
    }
   ],
   "source": [
    "myfun(3,4)"
   ]
  },
  {
   "cell_type": "code",
   "execution_count": 3,
   "id": "3a10893b-f739-4c30-bed6-b9049c5b63e8",
   "metadata": {},
   "outputs": [],
   "source": [
    "def myfun(x):\n",
    "    return x*3"
   ]
  },
  {
   "cell_type": "code",
   "execution_count": 5,
   "id": "c5c07c25-67cc-4e2f-b15b-83c3932c0849",
   "metadata": {},
   "outputs": [],
   "source": [
    "def apply(q,x):\n",
    "    return q(x)"
   ]
  },
  {
   "cell_type": "code",
   "execution_count": 6,
   "id": "e6fa51d9-7666-439f-b1bc-b4cdbe36f315",
   "metadata": {},
   "outputs": [
    {
     "data": {
      "text/plain": [
       "21"
      ]
     },
     "execution_count": 6,
     "metadata": {},
     "output_type": "execute_result"
    }
   ],
   "source": [
    "apply(myfun,7)"
   ]
  },
  {
   "cell_type": "code",
   "execution_count": 7,
   "id": "a9f5358b-078c-402b-8304-1158a6b4c98c",
   "metadata": {},
   "outputs": [
    {
     "data": {
      "text/plain": [
       "28"
      ]
     },
     "execution_count": 7,
     "metadata": {},
     "output_type": "execute_result"
    }
   ],
   "source": [
    "apply(lambda z: z*4,7)"
   ]
  },
  {
   "cell_type": "code",
   "execution_count": 8,
   "id": "e3ab69cd-4fc7-444b-addc-02b5b110e49f",
   "metadata": {},
   "outputs": [],
   "source": [
    "def myfun(b,c=3,d=\"hello\"):\n",
    "    return b+c"
   ]
  },
  {
   "cell_type": "code",
   "execution_count": 9,
   "id": "9910612b-b112-4d53-83ee-ce7d05ff2ccf",
   "metadata": {},
   "outputs": [
    {
     "data": {
      "text/plain": [
       "8"
      ]
     },
     "execution_count": 9,
     "metadata": {},
     "output_type": "execute_result"
    }
   ],
   "source": [
    "myfun(5,3,\"hello\")"
   ]
  },
  {
   "cell_type": "code",
   "execution_count": 10,
   "id": "eaab514c-e748-4ba1-bec9-767192a1d7a8",
   "metadata": {},
   "outputs": [
    {
     "data": {
      "text/plain": [
       "8"
      ]
     },
     "execution_count": 10,
     "metadata": {},
     "output_type": "execute_result"
    }
   ],
   "source": [
    "myfun(5,3)"
   ]
  },
  {
   "cell_type": "code",
   "execution_count": 11,
   "id": "86829528-da8e-4886-8bfd-c21bded6f363",
   "metadata": {},
   "outputs": [
    {
     "data": {
      "text/plain": [
       "8"
      ]
     },
     "execution_count": 11,
     "metadata": {},
     "output_type": "execute_result"
    }
   ],
   "source": [
    "myfun(5)"
   ]
  },
  {
   "cell_type": "code",
   "execution_count": 12,
   "id": "586e5122-d4ef-4533-8cd8-b643d42423f7",
   "metadata": {},
   "outputs": [],
   "source": [
    "def myfun (a,b,c):\n",
    "    return a-b"
   ]
  },
  {
   "cell_type": "code",
   "execution_count": 13,
   "id": "f8dc0e4a-199e-4ffe-8625-db17d1927532",
   "metadata": {},
   "outputs": [
    {
     "data": {
      "text/plain": [
       "-1"
      ]
     },
     "execution_count": 13,
     "metadata": {},
     "output_type": "execute_result"
    }
   ],
   "source": [
    "myfun(1,2,3)"
   ]
  },
  {
   "cell_type": "code",
   "execution_count": 14,
   "id": "88bf325a-00b5-4b88-8c92-c0079a6bb2fc",
   "metadata": {},
   "outputs": [
    {
     "data": {
      "text/plain": [
       "-1"
      ]
     },
     "execution_count": 14,
     "metadata": {},
     "output_type": "execute_result"
    }
   ],
   "source": [
    "myfun(c=3,b=2,a=1)"
   ]
  },
  {
   "cell_type": "code",
   "execution_count": 15,
   "id": "ac88f892-2a8c-4482-88e6-915ab988739c",
   "metadata": {},
   "outputs": [
    {
     "data": {
      "text/plain": [
       "-1"
      ]
     },
     "execution_count": 15,
     "metadata": {},
     "output_type": "execute_result"
    }
   ],
   "source": [
    "myfun(1,c=3,b=2)"
   ]
  },
  {
   "cell_type": "code",
   "execution_count": 16,
   "id": "a0d91d71-7465-4e4c-8c03-7d242f2003d8",
   "metadata": {},
   "outputs": [
    {
     "data": {
      "text/plain": [
       "'HELLO'"
      ]
     },
     "execution_count": 16,
     "metadata": {},
     "output_type": "execute_result"
    }
   ],
   "source": [
    "\"hello\".upper()"
   ]
  },
  {
   "cell_type": "code",
   "execution_count": 18,
   "id": "5ae03d69-33b7-4a86-b107-abe5c83214c7",
   "metadata": {},
   "outputs": [],
   "source": [
    "x=\"abc\""
   ]
  },
  {
   "cell_type": "code",
   "execution_count": 19,
   "id": "f1641abb-b517-4419-ae1b-ce9da16e4661",
   "metadata": {},
   "outputs": [],
   "source": [
    "y=34"
   ]
  },
  {
   "cell_type": "code",
   "execution_count": 20,
   "id": "9afadc29-f373-45e1-8a9a-91fd32f86a1d",
   "metadata": {},
   "outputs": [
    {
     "data": {
      "text/plain": [
       "'abcxyz34'"
      ]
     },
     "execution_count": 20,
     "metadata": {},
     "output_type": "execute_result"
    }
   ],
   "source": [
    "\"%sxyz%d\"%(x,y)"
   ]
  },
  {
   "cell_type": "code",
   "execution_count": 21,
   "id": "c7e1b3b1-5ec4-4845-87de-3704dc456aa0",
   "metadata": {},
   "outputs": [
    {
     "name": "stdout",
     "output_type": "stream",
     "text": [
      "abc xyz 34\n"
     ]
    }
   ],
   "source": [
    "print((\"%s xyz %d\")%(\"abc\",34))"
   ]
  },
  {
   "cell_type": "code",
   "execution_count": 22,
   "id": "a88932f6-b291-4c2e-9dd8-975645267f91",
   "metadata": {},
   "outputs": [
    {
     "name": "stdout",
     "output_type": "stream",
     "text": [
      "abc\n"
     ]
    }
   ],
   "source": [
    "print (\"abc\")"
   ]
  },
  {
   "cell_type": "code",
   "execution_count": 23,
   "id": "c49d998a-5467-406e-8ea7-a6f98f6b3cee",
   "metadata": {},
   "outputs": [
    {
     "name": "stdout",
     "output_type": "stream",
     "text": [
      "abc def\n"
     ]
    }
   ],
   "source": [
    "print(\"abc\",\"def\")"
   ]
  },
  {
   "cell_type": "code",
   "execution_count": 24,
   "id": "61f39188-d284-458b-bcde-62e6ad201a6a",
   "metadata": {},
   "outputs": [
    {
     "name": "stdout",
     "output_type": "stream",
     "text": [
      "abc\n"
     ]
    }
   ],
   "source": [
    "print(\"abc\",)"
   ]
  },
  {
   "cell_type": "code",
   "execution_count": 25,
   "id": "3ba09626-c9f0-425f-9ac5-499d2dc406af",
   "metadata": {},
   "outputs": [
    {
     "data": {
      "text/plain": [
       "'abc;def;ghi'"
      ]
     },
     "execution_count": 25,
     "metadata": {},
     "output_type": "execute_result"
    }
   ],
   "source": [
    "\";\".join([\"abc\",\"def\",\"ghi\"])"
   ]
  },
  {
   "cell_type": "code",
   "execution_count": 26,
   "id": "3433969c-2ee7-46fb-bfe4-24f314452b5c",
   "metadata": {},
   "outputs": [
    {
     "data": {
      "text/plain": [
       "['abc', 'def', 'hgi']"
      ]
     },
     "execution_count": 26,
     "metadata": {},
     "output_type": "execute_result"
    }
   ],
   "source": [
    "\"abc;def;hgi\".split(\";\")"
   ]
  },
  {
   "cell_type": "code",
   "execution_count": 27,
   "id": "0ca4c68c-d472-439f-b4ee-5d8d3fbf3a75",
   "metadata": {},
   "outputs": [
    {
     "data": {
      "text/plain": [
       "'hello 2'"
      ]
     },
     "execution_count": 27,
     "metadata": {},
     "output_type": "execute_result"
    }
   ],
   "source": [
    "\"hello \" + str(2)"
   ]
  },
  {
   "cell_type": "code",
   "execution_count": 28,
   "id": "e450ed81-5686-40b1-9c08-dbf27b1437e7",
   "metadata": {},
   "outputs": [
    {
     "name": "stdout",
     "output_type": "stream",
     "text": [
      "1\n",
      "2\n"
     ]
    }
   ],
   "source": [
    "for e in [1,2]:\n",
    "    print (e)"
   ]
  },
  {
   "cell_type": "code",
   "execution_count": 29,
   "id": "11b99aa0-f138-4d7c-9a19-654d532d20e4",
   "metadata": {},
   "outputs": [],
   "source": [
    "s=[1,2]"
   ]
  },
  {
   "cell_type": "code",
   "execution_count": 30,
   "id": "287626d4-9f55-4584-a520-234b45df1935",
   "metadata": {},
   "outputs": [],
   "source": [
    "it=iter(s)"
   ]
  },
  {
   "cell_type": "code",
   "execution_count": 31,
   "id": "6a8a9055-45c3-413a-90a6-a64f74ccf42a",
   "metadata": {},
   "outputs": [
    {
     "data": {
      "text/plain": [
       "<list_iterator at 0x29a17d6a6a0>"
      ]
     },
     "execution_count": 31,
     "metadata": {},
     "output_type": "execute_result"
    }
   ],
   "source": [
    "it"
   ]
  },
  {
   "cell_type": "code",
   "execution_count": 32,
   "id": "4bf2ec74-3e7d-4c33-a6e6-c7f9a1b6be17",
   "metadata": {},
   "outputs": [],
   "source": [
    "class Reverse:\n",
    "    \"Iterator for looping over a sequence backwards\"\n",
    "    def init (self, data):\n",
    "        self.data = data\n",
    "        self.index = len(data)\n",
    "    def next(self):\n",
    "        if self.index == 0:  \n",
    "            raise StopIteration\n",
    "        self.index = self.index - 1\n",
    "        return self.data[self.index] \n",
    "    def iter (self):\n",
    "        return self"
   ]
  },
  {
   "cell_type": "code",
   "execution_count": 33,
   "id": "b1965809-632a-4596-b4f3-4d34a3fd54b2",
   "metadata": {},
   "outputs": [],
   "source": [
    "def merge(l, r):\n",
    "    llen, rlen, i, j = len(l), len(r), 0, 0\n",
    "    while i < llen or j < rlen:\n",
    "        if j == rlen or (i < llen and l[i] < r[j]):\n",
    "            yield l[i]\n",
    "            i += 1\n",
    "    else:\n",
    "        yield r[j]\n",
    "        j += 1"
   ]
  },
  {
   "cell_type": "code",
   "execution_count": 34,
   "id": "4924a4ef-e87e-46e3-b4bc-4ab00d2829bc",
   "metadata": {},
   "outputs": [],
   "source": [
    "g = merge([2,4], [1, 3, 5])"
   ]
  },
  {
   "cell_type": "code",
   "execution_count": 35,
   "id": "4a70ff0e-cbb5-4849-89ae-d840abc156ab",
   "metadata": {},
   "outputs": [],
   "source": [
    "class DiGraph:\n",
    "    def __init__(self, edges):\n",
    "        self.adj = {}\n",
    "        for u,v in edges:\n",
    "            if u not in self.adj: self.adj[u] = [v]\n",
    "            else: self.adj[u].append(v) \n",
    "    def __str__(self):\n",
    "        return '\\n'.join(['%s -> %s'%(u,v) \\\n",
    "                        for u in self.adj for v in self.adj[u]])"
   ]
  },
  {
   "cell_type": "code",
   "execution_count": 36,
   "id": "fb09d049-46ed-4a8d-b146-082d2312c52d",
   "metadata": {},
   "outputs": [],
   "source": [
    "d = DiGraph([(1,2),(1,3),(2,4),(4,3),(4,1)])"
   ]
  },
  {
   "cell_type": "code",
   "execution_count": 37,
   "id": "791f2921-358b-42a0-b0d7-2f87ec952ae1",
   "metadata": {},
   "outputs": [],
   "source": [
    "class DiGraph:\n",
    "\n",
    "    def search(self, u, visited=set()):\n",
    "        # If we haven't already visited this node...\n",
    "        if u not in visited: \n",
    "            # yield it\n",
    "            yield u\n",
    "            # and remember we've visited it now.\n",
    "            visited.add(u) \n",
    "            # Then, if there are any adjacant nodes...\n",
    "            if u in self.adj: \n",
    "                # for each adjacent node...\n",
    "                for v in self.adj[u]: \n",
    "                 # search for all nodes reachable from *it*...\n",
    "                 for w in self.search(v, visited): \n",
    "                    # and yield each one.\n",
    "                    yield w"
   ]
  },
  {
   "cell_type": "code",
   "execution_count": null,
   "id": "73d1e972-c575-4ba8-9a1c-f27975c47399",
   "metadata": {},
   "outputs": [],
   "source": []
  }
 ],
 "metadata": {
  "kernelspec": {
   "display_name": "Python 3",
   "language": "python",
   "name": "python3"
  },
  "language_info": {
   "codemirror_mode": {
    "name": "ipython",
    "version": 3
   },
   "file_extension": ".py",
   "mimetype": "text/x-python",
   "name": "python",
   "nbconvert_exporter": "python",
   "pygments_lexer": "ipython3",
   "version": "3.9.4"
  }
 },
 "nbformat": 4,
 "nbformat_minor": 5
}
